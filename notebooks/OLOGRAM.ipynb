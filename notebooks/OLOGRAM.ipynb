{
 "cells": [
  {
   "cell_type": "code",
   "execution_count": null,
   "metadata": {},
   "outputs": [],
   "source": [
    "import subprocess\n",
    "from pathlib import Path\n",
    "\n",
    "import numpy as np\n",
    "import pandas as pd\n",
    "import altair as alt\n",
    "\n",
    "import ipywidgets as widgets\n",
    "from jolo_widgets import feature_graph, OlogramCmd\n",
    "\n",
    "from pygtftk.plugins.get_example import get_example\n"
   ]
  },
  {
   "cell_type": "code",
   "execution_count": null,
   "metadata": {},
   "outputs": [],
   "source": [
    "import signal"
   ]
  },
  {
   "cell_type": "code",
   "execution_count": null,
   "metadata": {},
   "outputs": [],
   "source": [
    "# gtftk get_example -q -d simple -f '*'\n",
    "datasets = [\n",
    "    \"simple\",\n",
    "    \"mini_real\",\n",
    "    \"hg38_chr1\",\n",
    "    \"ologram_1\",\n",
    "    \"simple_07\",\n",
    "    \"ologram_2\"\n",
    "]\n",
    "\n",
    "for dataset in datasets:\n",
    "    get_example(dataset=dataset, format=\"*\", quiet=True)\n",
    "    "
   ]
  },
  {
   "cell_type": "markdown",
   "metadata": {},
   "source": [
    "## Bar graph of ovelap length"
   ]
  },
  {
   "cell_type": "code",
   "execution_count": null,
   "metadata": {},
   "outputs": [],
   "source": [
    "\n",
    "available_tsvs = [t.as_posix() for t in Path('.').glob(\"*_ologram_stats.tsv\")]\n",
    "f = widgets.interact(feature_graph, tsv_file=available_tsvs)"
   ]
  },
  {
   "cell_type": "code",
   "execution_count": null,
   "metadata": {},
   "outputs": [],
   "source": [
    "OlogramCmd()"
   ]
  }
 ],
 "metadata": {
  "kernelspec": {
   "display_name": "Python 3",
   "language": "python",
   "name": "python3"
  },
  "language_info": {
   "codemirror_mode": {
    "name": "ipython",
    "version": 3
   },
   "file_extension": ".py",
   "mimetype": "text/x-python",
   "name": "python",
   "nbconvert_exporter": "python",
   "pygments_lexer": "ipython3",
   "version": "3.7.9"
  }
 },
 "nbformat": 4,
 "nbformat_minor": 4
}
