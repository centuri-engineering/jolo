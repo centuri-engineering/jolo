{
 "cells": [
  {
   "cell_type": "code",
   "execution_count": null,
   "metadata": {},
   "outputs": [],
   "source": [
    "import subprocess\n",
    "from pathlib import Path\n",
    "\n",
    "import numpy as np\n",
    "import pandas as pd\n",
    "import altair as alt\n",
    "\n",
    "import ipywidgets as widgets\n",
    "\n",
    "from pygtftk.plugins.get_example import get_example\n"
   ]
  },
  {
   "cell_type": "code",
   "execution_count": null,
   "metadata": {},
   "outputs": [],
   "source": [
    "# gtftk get_example -q -d simple -f '*'\n",
    "datasets = [\n",
    "    \"simple\",\n",
    "    \"mini_real\",\n",
    "    \"hg38_chr1\",\n",
    "    \"ologram_1\",\n",
    "    \"simple_07\",\n",
    "    \"ologram_2\"\n",
    "]\n",
    "\n",
    "for dataset in datasets:\n",
    "    get_example(dataset=dataset, format=\"*\", quiet=True)\n",
    "    "
   ]
  },
  {
   "cell_type": "code",
   "execution_count": null,
   "metadata": {},
   "outputs": [],
   "source": [
    "def feature_graph(tsv_file):\n",
    "    ## I'll put this in a separate module soon\n",
    "    result = pd.read_csv(tsv_file, sep='\\t')\n",
    "    fc = result['nb_intersections_true'] / (result['nb_intersections_expectation_shuffled'] + 1)\n",
    "\n",
    "    result[\"signif_color\"] = \"#b3b3b3\"\n",
    "\n",
    "    result.loc[(result.nb_intersections_pvalue < 0.05) & (fc < 1), \"signif_color\"] = '#ffa64d'\n",
    "    result.loc[(result.nb_intersections_pvalue < 0.05) & (fc > 1), \"signif_color\"] = '#6cc67b'\n",
    "    result.loc[(result.nb_intersections_pvalue < 1e-10) & (fc < 1), \"signif_color\"] = '#cc6600'\n",
    "    result.loc[(result.nb_intersections_pvalue < 1e-10) & (fc > 1), \"signif_color\"] = '#3c9040'\n",
    "\n",
    "\n",
    "    result[\"err_min\"] = (\n",
    "        result[\"nb_intersections_expectation_shuffled\"]\n",
    "        - result[\"nb_intersections_variance_shuffled\"]**0.5\n",
    "    )\n",
    "\n",
    "    result[\"err_max\"] = (\n",
    "        result[\"nb_intersections_expectation_shuffled\"]\n",
    "        + result[\"nb_intersections_variance_shuffled\"]**0.5\n",
    "    )\n",
    "\n",
    "    source = result\n",
    "\n",
    "    chart = alt.Chart(\n",
    "        result, width=600, height=400, title=\"Total overlap length per region type\")\n",
    "\n",
    "    x = alt.X('feature_type:O', title=\"Feature type\")\n",
    "    y = alt.Y('nb_intersections_expectation_shuffled', title='Nb of overlapping base pairs')\n",
    "\n",
    "    bar_width = 15\n",
    "\n",
    "    bars = chart.mark_bar(\n",
    "        color=\"#cccccc\",\n",
    "        width=bar_width,\n",
    "    ).encode(\n",
    "        x=x,\n",
    "        y=y,\n",
    "        tooltip=\"nb_intersections_pvalue\"\n",
    "    )\n",
    "\n",
    "    errs = chart.mark_rule().encode(\n",
    "        x=x,\n",
    "        y=\"err_min\",\n",
    "        y2=\"err_max\",\n",
    "    )\n",
    "\n",
    "    y_true = alt.Y('nb_intersections_true')\n",
    "    barrs2 = chart.mark_bar(\n",
    "        color=\"#67b7e3\",\n",
    "        width=bar_width,\n",
    "        xOffset=bar_width\n",
    "    ).encode(\n",
    "        x=x,\n",
    "        y=y_true,\n",
    "        tooltip=\"nb_intersections_pvalue\"\n",
    "    )\n",
    "\n",
    "    pvals = chart.mark_text(yOffset=-20).encode(\n",
    "        x=x,\n",
    "        y=y_true,\n",
    "        text=\"nb_intersections_pvalue\",\n",
    "    )\n",
    "\n",
    "    return bars + errs + barrs2 + pvals\n"
   ]
  },
  {
   "cell_type": "markdown",
   "metadata": {},
   "source": [
    "## Bar graph of ovelap length"
   ]
  },
  {
   "cell_type": "code",
   "execution_count": null,
   "metadata": {},
   "outputs": [],
   "source": [
    "\n",
    "available_tsvs = [t.as_posix() for t in Path('.').glob(\"*_ologram_stats.tsv\")]\n",
    "f = widgets.interact(feature_graph, tsv_file=available_tsvs)"
   ]
  },
  {
   "cell_type": "markdown",
   "metadata": {
    "scrolled": true
   },
   "source": [
    "## Computing new data (TODO)\n",
    "\n",
    "```sh\n",
    "gtftk ologram -i hg38_chr1.gtf.gz\\\n",
    "                -p ENCFF112BHN_H3K4me3_chr1.bed\\\n",
    "                -c hg38_chr1.genome\\\n",
    "                -u 1500 -d 1500 -D  \\\n",
    "                -pf example_pa_01.pdf -k 8 \\\n",
    "                -j summed_bp_overlaps_pvalue\n",
    "```\n",
    "\n",
    "I wanted to call directly the python function, and avoid a call to `subprocess.run` as this can be unsecure, by replicating the first example in OLOGRAM's doc like this:\n",
    "\n",
    "```py\n",
    "from pygtftk.plugins.ologram import ologram\n",
    "\n",
    "ologram(\n",
    "    inputfile=\"hg38_chr1.gtf.gz\",\n",
    "    peak_file=\"ENCFF112BHN_H3K4me3_chr1.bed\",\n",
    "    chrom_info=\"hg38_chr1.genome\",\n",
    "    upstream=1500,\n",
    "    downstream=1500,\n",
    "    sort_features=\"summed_bp_overlaps_pvalue\",\n",
    "    nb_threads=8\n",
    ")\n",
    "```\n",
    "\n",
    "But this results in an error because the function arguments need to pass through `ArgFormatter`. \n",
    "\n",
    "For now, I'll just construct a call to `subprocess`, but it could be interesting to separate the preprocessing from the argument parsing (i.e. extract the preprocessing functions from the ArgFormatter objects and expose them in the API)\n",
    "\n"
   ]
  },
  {
   "cell_type": "code",
   "execution_count": null,
   "metadata": {},
   "outputs": [],
   "source": []
  }
 ],
 "metadata": {
  "kernelspec": {
   "display_name": "Python 3",
   "language": "python",
   "name": "python3"
  },
  "language_info": {
   "codemirror_mode": {
    "name": "ipython",
    "version": 3
   },
   "file_extension": ".py",
   "mimetype": "text/x-python",
   "name": "python",
   "nbconvert_exporter": "python",
   "pygments_lexer": "ipython3",
   "version": "3.8.6"
  }
 },
 "nbformat": 4,
 "nbformat_minor": 4
}
